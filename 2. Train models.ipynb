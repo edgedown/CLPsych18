{
 "cells": [
  {
   "cell_type": "code",
   "execution_count": 1,
   "metadata": {},
   "outputs": [],
   "source": [
    "% matplotlib inline"
   ]
  },
  {
   "cell_type": "code",
   "execution_count": 2,
   "metadata": {
    "scrolled": true
   },
   "outputs": [],
   "source": [
    "import pandas as pd\n",
    "import matplotlib.pyplot as plt\n",
    "from sklearn.externals import joblib\n",
    "from data import load_jsonl"
   ]
  },
  {
   "cell_type": "code",
   "execution_count": 3,
   "metadata": {},
   "outputs": [],
   "source": [
    "train = load_jsonl('train.jsonl')"
   ]
  },
  {
   "cell_type": "code",
   "execution_count": 4,
   "metadata": {},
   "outputs": [],
   "source": [
    "from collections import Counter\n",
    "import numpy as np\n",
    "from scipy.stats.stats import pearsonr\n",
    "from sklearn.metrics import make_scorer\n",
    "from sklearn.linear_model import SGDRegressor\n",
    "from sklearn.svm import SVR\n",
    "from sklearn.model_selection import GridSearchCV\n",
    "from sklearn.pipeline import make_pipeline\n",
    "from sklearn.preprocessing import StandardScaler\n",
    "from sklearn.feature_extraction import DictVectorizer\n",
    "from sklearn.feature_selection import SelectKBest, f_regression\n",
    "\n",
    "IGNORE = {\n",
    "    'a23_pdistress',\n",
    "    'a33_pdistress',\n",
    "    'a42_pdistress',\n",
    "    'essay',\n",
    "    'id',\n",
    "    'a11_bsag_total',\n",
    "    'a11_bsag_anxiety',\n",
    "    'a11_bsag_depression',\n",
    "}\n",
    "\n",
    "\n",
    "def dis_r(truth, predictions, key_reliab=0.77, pred_reliab=0.70):\n",
    "    return pearsonr(truth, predictions)[0] / np.sqrt(key_reliab * pred_reliab)\n",
    "\n",
    "\n",
    "dis_r_score = make_scorer(dis_r, greater_is_better=True)\n",
    "\n",
    "\n",
    "def make_xy(data, label_name, include=None, exclude=IGNORE):\n",
    "    X, y = [], []\n",
    "    for i in data:\n",
    "        label = i[label_name]\n",
    "        if label == '':\n",
    "            continue\n",
    "        d = {}\n",
    "        for k, v in i.items():\n",
    "            if include and k not in include:\n",
    "                continue\n",
    "            elif exclude and k in exclude:\n",
    "                continue\n",
    "            else:\n",
    "                d[k] = v\n",
    "        X.append(d)\n",
    "        y.append(label)\n",
    "    return X, y\n",
    "\n",
    "\n",
    "def todense(X):\n",
    "    return X.todense()\n",
    "\n",
    "\n",
    "def experiment(data, \n",
    "               label_name, \n",
    "               feature_names,\n",
    "               exclude=IGNORE,\n",
    "               params=None,\n",
    "               n_jobs=4):\n",
    "    print(f'Experiment\\t{feature_names}\\t{label_name}')\n",
    "    X, y = make_xy(data, label_name,\n",
    "                   include=feature_names,\n",
    "                   exclude=exclude)\n",
    "    \n",
    "    params = params or {}\n",
    "    pipeline = make_pipeline(\n",
    "            DictVectorizer(sparse=False),\n",
    "            StandardScaler(),\n",
    "            SGDRegressor(max_iter=1000, \n",
    "                         tol=1e3, \n",
    "                         penalty='elasticnet', \n",
    "                         alpha=0.1),\n",
    "    )\n",
    "    grid = GridSearchCV(\n",
    "        pipeline,\n",
    "        param_grid=params,\n",
    "        scoring={\n",
    "            'dis_r': dis_r_score,\n",
    "        },\n",
    "        refit='dis_r',\n",
    "        n_jobs=n_jobs,\n",
    "        verbose=0,\n",
    "        cv=10,\n",
    "    )\n",
    "    clf = grid.fit(X, y)\n",
    "    results = {}\n",
    "    m = clf.cv_results_['mean_test_dis_r'][clf.best_index_]\n",
    "    s = clf.cv_results_['std_test_dis_r'][clf.best_index_]\n",
    "    results['mean_cv_dis_r'] = m\n",
    "    results['std_cv_dis_r'] = s\n",
    "\n",
    "    print(f'Results\\n{m:.3f}±{2*s:.3f}\\t{clf.best_params_}')\n",
    "\n",
    "    print('\\nRanked coefficients:')\n",
    "    features = clf.best_estimator_.steps[0][1].get_feature_names()\n",
    "    weights = clf.best_estimator_.steps[-1][1].coef_\n",
    "    mask = [True for f in features]\n",
    "    weighted = []  # The list of your K best features\n",
    "    for selected, feature_name in zip(mask, features):\n",
    "        if selected:\n",
    "            weighted.append((feature_name, weights[len(weighted)]))\n",
    "    for k, v in sorted(weighted, key=lambda i: i[1], reverse=True):\n",
    "        if not v:\n",
    "            continue\n",
    "        print(f'\\t{v:.3f}\\t{k}')\n",
    "    return clf, results\n",
    "\n",
    "all_results = [\n",
    "    {\n",
    "        \"label\": 'Official',\n",
    "        \"a23_pdistress-mean_cv_dis_r\": 0.326, \"a23_pdistress-std_cv_dis_r\": 0,\n",
    "        \"a33_pdistress-mean_cv_dis_r\": 0.227, \"a33_pdistress-std_cv_dis_r\": 0,\n",
    "        \"a42_pdistress-mean_cv_dis_r\": 0.196, \"a42_pdistress-std_cv_dis_r\": 0,\n",
    "    }\n",
    "]"
   ]
  },
  {
   "cell_type": "markdown",
   "metadata": {},
   "source": [
    "## Baseline approaches\n",
    "\n",
    "Simple regression over the control variables: gender, social class and n_tokens."
   ]
  },
  {
   "cell_type": "code",
   "execution_count": 5,
   "metadata": {
    "scrolled": false
   },
   "outputs": [
    {
     "name": "stdout",
     "output_type": "stream",
     "text": [
      "Experiment\t['cntrl_gender', 'cntrl_a11_social_class', 'n_tokens']\ta23_pdistress\n",
      "Results\n",
      "0.376±0.055\t{'sgdregressor__alpha': 0.01, 'sgdregressor__l1_ratio': 0.2, 'sgdregressor__max_iter': 2000}\n",
      "\n",
      "Ranked coefficients:\n",
      "\t0.385\tcntrl_gender\n",
      "\t0.091\tcntrl_a11_social_class=Unskilled\n",
      "\t0.072\tcntrl_a11_social_class=Partly skilled\n",
      "\t0.032\tcntrl_a11_social_class=Skilled manual\n",
      "\t-0.029\tcntrl_a11_social_class=Skilled non-manual\n",
      "\t-0.062\tcntrl_a11_social_class=Professional\n",
      "\t-0.122\tcntrl_a11_social_class=Managerial\n",
      "Experiment\t['cntrl_gender', 'cntrl_a11_social_class', 'n_tokens']\ta33_pdistress\n"
     ]
    },
    {
     "name": "stderr",
     "output_type": "stream",
     "text": [
      "/Users/admin/repos/neura-clpsych18/.env/lib/python3.6/site-packages/scipy/stats/stats.py:3003: RuntimeWarning: invalid value encountered in double_scalars\n",
      "  r = r_num / r_den\n"
     ]
    },
    {
     "name": "stdout",
     "output_type": "stream",
     "text": [
      "Results\n",
      "0.251±0.064\t{'sgdregressor__alpha': 0.01, 'sgdregressor__l1_ratio': 0.15, 'sgdregressor__max_iter': 500}\n",
      "\n",
      "Ranked coefficients:\n",
      "\t0.262\tcntrl_gender\n",
      "\t0.095\tcntrl_a11_social_class=Unskilled\n",
      "\t0.060\tcntrl_a11_social_class=Skilled manual\n",
      "\t0.038\tcntrl_a11_social_class=Partly skilled\n",
      "\t-0.067\tcntrl_a11_social_class=Managerial\n",
      "\t-0.077\tcntrl_a11_social_class=Skilled non-manual\n",
      "\t-0.095\tcntrl_a11_social_class=Professional\n",
      "Experiment\t['cntrl_gender', 'cntrl_a11_social_class', 'n_tokens']\ta42_pdistress\n",
      "Results\n",
      "0.239±0.116\t{'sgdregressor__alpha': 0.1, 'sgdregressor__l1_ratio': 0.1, 'sgdregressor__max_iter': 2000}\n",
      "\n",
      "Ranked coefficients:\n",
      "\t0.292\tcntrl_gender\n",
      "\t0.089\tcntrl_a11_social_class=Unskilled\n",
      "\t0.008\tcntrl_a11_social_class=Skilled manual\n",
      "\t-0.013\tcntrl_a11_social_class=Professional\n",
      "\t-0.040\tcntrl_a11_social_class=Skilled non-manual\n",
      "\t-0.073\tcntrl_a11_social_class=Managerial\n"
     ]
    }
   ],
   "source": [
    "params = {\n",
    "    'sgdregressor__alpha': [0.01, 0.1, 1],\n",
    "    'sgdregressor__l1_ratio': [0.1, 0.15, 0.2],\n",
    "    'sgdregressor__max_iter': [500, 1000, 2000],\n",
    "}\n",
    "\n",
    "label = 'baseline'\n",
    "outs = ['a23_pdistress', 'a33_pdistress', 'a42_pdistress']\n",
    "baseline = {'label': label}\n",
    "for out in outs:\n",
    "    clf, results = experiment(\n",
    "        train, out, \n",
    "        ['cntrl_gender', 'cntrl_a11_social_class', 'n_tokens'],\n",
    "        params=params,             \n",
    "    )\n",
    "    baseline.update({f'{out}-{metric}': v for metric, v in results.items()})\n",
    "    joblib.dump(clf, f'{label}-{out}.pkl')\n",
    "all_results.append(baseline)"
   ]
  },
  {
   "cell_type": "markdown",
   "metadata": {},
   "source": [
    "## Kitchen sink"
   ]
  },
  {
   "cell_type": "code",
   "execution_count": 8,
   "metadata": {
    "scrolled": false
   },
   "outputs": [
    {
     "name": "stdout",
     "output_type": "stream",
     "text": [
      "Experiment\tNone\ta23_pdistress\n",
      "Results\n",
      "0.401±0.076\t{'sgdregressor__alpha': 0.1, 'sgdregressor__l1_ratio': 0.2, 'sgdregressor__max_iter': 2000}\n",
      "\n",
      "Ranked coefficients:\n",
      "\t0.394\tcntrl_gender\n",
      "\t0.094\tread_sentence-beginnings_conjunction\n",
      "\t0.088\tEXPERT_zero_sport\n",
      "\t0.075\tnoise_p_replacement_tokens\n",
      "\t0.054\tLIWC_p_LIWC_Certain\n",
      "\t0.049\tsyn_p_pos-CCONJ\n",
      "\t0.049\tstat_mean_sentence\n",
      "\t0.037\tEXPERT_p_wealth\n",
      "\t0.022\tEXPERT_p_interpersonal-second\n",
      "\t0.021\tEXPERT_p_interpersonal-first\n",
      "\t0.019\tread_sentence-info_words_per_sentence\n",
      "\t0.017\tsyn_p_pos-PRON\n",
      "\t0.016\tEXPERT_zero_occupation-study\n",
      "\t0.002\tcntrl_a11_social_class=Partly skilled\n",
      "\t0.001\tEXPERT_zero_timeframe\n",
      "\t0.001\tread_readability-grades_Kincaid\n",
      "\t-0.003\tcntrl_a11_social_class=Skilled non-manual\n",
      "\t-0.010\tread_readability-grades_Coleman-Liau\n",
      "\t-0.010\tsyn_p_pos-DET\n",
      "\t-0.012\tread_word-usage_nominalization\n",
      "\t-0.031\tstat_n_types\n",
      "\t-0.033\tread_sentence-info_wordtypes\n",
      "\t-0.038\tcntrl_a11_social_class=Professional\n",
      "\t-0.041\tEXPERT_p_travel\n",
      "\t-0.054\tcntrl_a11_social_class=Managerial\n",
      "\t-0.108\tread_sentence-info_characters_per_word\n",
      "Experiment\tNone\ta33_pdistress\n",
      "Results\n",
      "0.268±0.067\t{'sgdregressor__alpha': 0.1, 'sgdregressor__l1_ratio': 0.2, 'sgdregressor__max_iter': 1000}\n",
      "\n",
      "Ranked coefficients:\n",
      "\t0.223\tcntrl_gender\n",
      "\t0.040\tnoise_p_replacement_tokens\n",
      "\t0.033\tsyn_p_pos-SPACE\n",
      "\t0.027\tents_p_PERSON\n",
      "\t0.017\tEXPERT_p_sleep\n",
      "\t0.007\tEXPERT_zero_sport\n",
      "\t0.002\tcntrl_a11_social_class=Skilled manual\n",
      "\t-0.002\tEXPERT_p_interpersonal-not\n",
      "\t-0.007\tents_p_QUANTITY\n",
      "\t-0.020\tcntrl_a11_social_class=Skilled non-manual\n",
      "\t-0.021\tEXPERT_p_uncertainty\n",
      "\t-0.027\tents_p_DATE\n",
      "\t-0.036\tsyn_p_pos-DET\n",
      "\t-0.037\tEXPERT_p_travel\n",
      "\t-0.050\tread_sentence-info_characters_per_word\n",
      "Experiment\tNone\ta42_pdistress\n",
      "Results\n",
      "0.233±0.128\t{'sgdregressor__alpha': 0.1, 'sgdregressor__l1_ratio': 0.2, 'sgdregressor__max_iter': 2000}\n",
      "\n",
      "Ranked coefficients:\n",
      "\t0.254\tcntrl_gender\n",
      "\t0.077\tLIWC_zero_LIWC_Affect\n",
      "\t0.068\tEXPERT_zero_sport\n",
      "\t0.053\tEXPERT_zero_occupation-military\n",
      "\t0.031\tnoise_p_left_bracket\n",
      "\t0.025\tstat_mean_sentence\n",
      "\t0.025\tEXPERT_p_sleep\n",
      "\t0.023\tEXPERT_p_affect-positive\n",
      "\t0.023\tEXPERT_p_wealth\n",
      "\t-0.016\tEXPERT_p_sport\n",
      "\t-0.021\tcntrl_a11_social_class=Managerial\n",
      "\t-0.023\tread_sentence-info_type_token_ratio\n",
      "\t-0.030\tcntrl_a11_social_class=Skilled non-manual\n",
      "\t-0.031\tEXPERT_p_travel\n",
      "\t-0.032\tEXPERT_p_interpersonal-not\n",
      "\t-0.061\tents_p_ORDINAL\n"
     ]
    }
   ],
   "source": [
    "outs = ['a23_pdistress', 'a33_pdistress', 'a42_pdistress']\n",
    "label = 'SGDR-all'\n",
    "elastic = {'label': label}\n",
    "exclude = IGNORE.union({f'emb_{i}' for i in range(100)})\n",
    "for out in outs:\n",
    "    clf, results = experiment(train, out, \n",
    "                     None,\n",
    "                     exclude=exclude,\n",
    "                     params=params,\n",
    "                     n_jobs=4)\n",
    "    elastic.update({f'{out}-{metric}': v for metric, v in results.items()})\n",
    "    joblib.dump(clf, f'{label}-{out}.pkl')\n",
    "all_results.append(elastic)"
   ]
  },
  {
   "cell_type": "code",
   "execution_count": 9,
   "metadata": {},
   "outputs": [],
   "source": [
    "df = pd.DataFrame(all_results, columns=['label', \n",
    "                                     'a23_pdistress-mean_cv_dis_r',\n",
    "                                     'a23_pdistress-std_cv_dis_r',\n",
    "                                     'a33_pdistress-mean_cv_dis_r',\n",
    "                                     'a33_pdistress-std_cv_dis_r',\n",
    "                                     'a42_pdistress-mean_cv_dis_r',\n",
    "                                     'a42_pdistress-std_cv_dis_r',\n",
    "                                     ])\n",
    "df['a23_pdistress-95CI_dis_r'] = 2 * df['a23_pdistress-std_cv_dis_r']\n",
    "df['a33_pdistress-95CI_dis_r'] = 2 * df['a23_pdistress-std_cv_dis_r']\n",
    "df['a42_pdistress-95CI_dis_r'] = 2 * df['a42_pdistress-std_cv_dis_r']"
   ]
  },
  {
   "cell_type": "code",
   "execution_count": 10,
   "metadata": {},
   "outputs": [
    {
     "data": {
      "text/html": [
       "<div>\n",
       "<style scoped>\n",
       "    .dataframe tbody tr th:only-of-type {\n",
       "        vertical-align: middle;\n",
       "    }\n",
       "\n",
       "    .dataframe tbody tr th {\n",
       "        vertical-align: top;\n",
       "    }\n",
       "\n",
       "    .dataframe thead th {\n",
       "        text-align: right;\n",
       "    }\n",
       "</style>\n",
       "<table border=\"1\" class=\"dataframe\">\n",
       "  <thead>\n",
       "    <tr style=\"text-align: right;\">\n",
       "      <th></th>\n",
       "      <th>label</th>\n",
       "      <th>a23_pdistress-mean_cv_dis_r</th>\n",
       "      <th>a23_pdistress-std_cv_dis_r</th>\n",
       "      <th>a33_pdistress-mean_cv_dis_r</th>\n",
       "      <th>a33_pdistress-std_cv_dis_r</th>\n",
       "      <th>a42_pdistress-mean_cv_dis_r</th>\n",
       "      <th>a42_pdistress-std_cv_dis_r</th>\n",
       "      <th>a23_pdistress-95CI_dis_r</th>\n",
       "      <th>a33_pdistress-95CI_dis_r</th>\n",
       "      <th>a42_pdistress-95CI_dis_r</th>\n",
       "    </tr>\n",
       "  </thead>\n",
       "  <tbody>\n",
       "    <tr>\n",
       "      <th>0</th>\n",
       "      <td>Official</td>\n",
       "      <td>0.326000</td>\n",
       "      <td>0.000000</td>\n",
       "      <td>0.227000</td>\n",
       "      <td>0.000000</td>\n",
       "      <td>0.196000</td>\n",
       "      <td>0.000000</td>\n",
       "      <td>0.000000</td>\n",
       "      <td>0.000000</td>\n",
       "      <td>0.000000</td>\n",
       "    </tr>\n",
       "    <tr>\n",
       "      <th>1</th>\n",
       "      <td>baseline</td>\n",
       "      <td>0.376170</td>\n",
       "      <td>0.027582</td>\n",
       "      <td>0.251216</td>\n",
       "      <td>0.031839</td>\n",
       "      <td>0.238885</td>\n",
       "      <td>0.057943</td>\n",
       "      <td>0.055163</td>\n",
       "      <td>0.055163</td>\n",
       "      <td>0.115885</td>\n",
       "    </tr>\n",
       "    <tr>\n",
       "      <th>2</th>\n",
       "      <td>SGDR-all</td>\n",
       "      <td>0.400708</td>\n",
       "      <td>0.038046</td>\n",
       "      <td>0.267534</td>\n",
       "      <td>0.033481</td>\n",
       "      <td>0.233200</td>\n",
       "      <td>0.063754</td>\n",
       "      <td>0.076093</td>\n",
       "      <td>0.076093</td>\n",
       "      <td>0.127508</td>\n",
       "    </tr>\n",
       "  </tbody>\n",
       "</table>\n",
       "</div>"
      ],
      "text/plain": [
       "      label  a23_pdistress-mean_cv_dis_r  a23_pdistress-std_cv_dis_r  \\\n",
       "0  Official                     0.326000                    0.000000   \n",
       "1  baseline                     0.376170                    0.027582   \n",
       "2  SGDR-all                     0.400708                    0.038046   \n",
       "\n",
       "   a33_pdistress-mean_cv_dis_r  a33_pdistress-std_cv_dis_r  \\\n",
       "0                     0.227000                    0.000000   \n",
       "1                     0.251216                    0.031839   \n",
       "2                     0.267534                    0.033481   \n",
       "\n",
       "   a42_pdistress-mean_cv_dis_r  a42_pdistress-std_cv_dis_r  \\\n",
       "0                     0.196000                    0.000000   \n",
       "1                     0.238885                    0.057943   \n",
       "2                     0.233200                    0.063754   \n",
       "\n",
       "   a23_pdistress-95CI_dis_r  a33_pdistress-95CI_dis_r  \\\n",
       "0                  0.000000                  0.000000   \n",
       "1                  0.055163                  0.055163   \n",
       "2                  0.076093                  0.076093   \n",
       "\n",
       "   a42_pdistress-95CI_dis_r  \n",
       "0                  0.000000  \n",
       "1                  0.115885  \n",
       "2                  0.127508  "
      ]
     },
     "execution_count": 10,
     "metadata": {},
     "output_type": "execute_result"
    }
   ],
   "source": [
    "df"
   ]
  },
  {
   "cell_type": "code",
   "execution_count": 11,
   "metadata": {
    "scrolled": false
   },
   "outputs": [
    {
     "name": "stderr",
     "output_type": "stream",
     "text": [
      "/Users/admin/repos/neura-clpsych18/.env/lib/python3.6/site-packages/pandas/plotting/_core.py:1716: UserWarning: Pandas doesn't allow columns to be created via a new attribute name - see https://pandas.pydata.org/pandas-docs/stable/indexing.html#attribute-access\n",
      "  series.name = label\n"
     ]
    },
    {
     "data": {
      "text/plain": [
       "<matplotlib.axes._subplots.AxesSubplot at 0x11ebce390>"
      ]
     },
     "execution_count": 11,
     "metadata": {},
     "output_type": "execute_result"
    },
    {
     "data": {
      "image/png": "[encoded data removed]",
      "text/plain": [
       "<Figure size 936x360 with 3 Axes>"
      ]
     },
     "metadata": {},
     "output_type": "display_data"
    }
   ],
   "source": [
    "fig, axes = plt.subplots(nrows=1, ncols=3, sharey=True, figsize=(13, 5))\n",
    "\n",
    "df.plot.bar(x='label', y=['a23_pdistress-mean_cv_dis_r'], \n",
    "            ax=axes[0], yerr='a23_pdistress-95CI_dis_r',\n",
    "            ylim=(0, 1))\n",
    "df.plot.bar(x='label', y=['a33_pdistress-mean_cv_dis_r'], \n",
    "            ax=axes[1], yerr='a33_pdistress-95CI_dis_r',\n",
    "            ylim=(0, 1))\n",
    "df.plot.bar(x='label', y=['a42_pdistress-mean_cv_dis_r'], \n",
    "            ax=axes[2], yerr='a42_pdistress-95CI_dis_r',\n",
    "            ylim=(0, 1))"
   ]
  },
  {
   "cell_type": "code",
   "execution_count": null,
   "metadata": {},
   "outputs": [],
   "source": []
  }
 ],
 "metadata": {
  "kernelspec": {
   "display_name": "Python 3",
   "language": "python",
   "name": "python3"
  },
  "language_info": {
   "codemirror_mode": {
    "name": "ipython",
    "version": 3
   },
   "file_extension": ".py",
   "mimetype": "text/x-python",
   "name": "python",
   "nbconvert_exporter": "python",
   "pygments_lexer": "ipython3",
   "version": "3.6.5"
  }
 },
 "nbformat": 4,
 "nbformat_minor": 2
}

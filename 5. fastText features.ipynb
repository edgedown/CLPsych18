{
 "cells": [
  {
   "cell_type": "code",
   "execution_count": null,
   "metadata": {},
   "outputs": [],
   "source": [
    "from fastText import train_supervised, train_unsupervised\n",
    "import itertools\n",
    "import json"
   ]
  },
  {
   "cell_type": "code",
   "execution_count": null,
   "metadata": {},
   "outputs": [],
   "source": [
    "def load_data(fname):\n",
    "    data = []\n",
    "    with open(fname) as f:\n",
    "        return [json.loads(l.strip()) for l in f]\n",
    "\n",
    "train = load_data('train_for_vectors.jsonl')\n",
    "test = load_data('test_for_vectors.jsonl')"
   ]
  },
  {
   "cell_type": "code",
   "execution_count": null,
   "metadata": {},
   "outputs": [],
   "source": [
    "# fit unsupervised model on data, starting from pretrained vectors\n",
    "# need to do this since there is no option to read in .vec files\n",
    "# vectors from https://fasttext.cc/docs/en/english-vectors.html\n",
    "\n",
    "unsup_path = 'unsup.train'\n",
    "with open(unsup_path, 'w') as fh:\n",
    "    for d in itertools.chain(train, test):\n",
    "        fh.write(f'{d[\"text\"]}\\n')\n",
    "        \n",
    "model = train_unsupervised(unsup_path, pretrainedVectors='crawl-300d-2M.vec.zip')"
   ]
  },
  {
   "cell_type": "code",
   "execution_count": null,
   "metadata": {},
   "outputs": [],
   "source": [
    "def write_vectors(model, data, path):\n",
    "    with open(path, 'w') as fh:\n",
    "        for d in data:\n",
    "            text = d['text'].replace('\\n', ' ')\n",
    "            d['vector'] = list(float(v) for v in model.get_sentence_vector(text))\n",
    "            fh.write(f'{json.dumps(d)}\\n')\n",
    "\n",
    "write_vectors(model, train, 'train_with_vectors.jsonl')\n",
    "write_vectors(model, test, 'test_with_vectors.jsonl')"
   ]
  },
  {
   "cell_type": "code",
   "execution_count": null,
   "metadata": {},
   "outputs": [],
   "source": []
  }
 ],
 "metadata": {
  "kernelspec": {
   "display_name": "Python 3",
   "language": "python",
   "name": "python3"
  },
  "language_info": {
   "codemirror_mode": {
    "name": "ipython",
    "version": 3
   },
   "file_extension": ".py",
   "mimetype": "text/x-python",
   "name": "python",
   "nbconvert_exporter": "python",
   "pygments_lexer": "ipython3",
   "version": "3.6.3"
  }
 },
 "nbformat": 4,
 "nbformat_minor": 2
}

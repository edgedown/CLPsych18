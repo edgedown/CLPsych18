{
 "cells": [
  {
   "cell_type": "markdown",
   "metadata": {},
   "source": [
    "# Making test predictions"
   ]
  },
  {
   "cell_type": "code",
   "execution_count": 3,
   "metadata": {},
   "outputs": [],
   "source": [
    "import csv\n",
    "from sklearn.externals import joblib\n",
    "from scipy.stats.stats import pearsonr\n",
    "from scipy.stats.stats import pearsonr\n",
    "from sklearn.metrics import make_scorer\n",
    "from data import load_jsonl\n",
    "\n",
    "IGNORE = {\n",
    "    'a23_pdistress',\n",
    "    'a33_pdistress',\n",
    "    'a42_pdistress',\n",
    "    'essay',\n",
    "    'id',\n",
    "    'a11_bsag_total',\n",
    "    'a11_bsag_anxiety',\n",
    "    'a11_bsag_depression',\n",
    "}\n",
    "\n",
    "def dis_r(truth, predictions, key_reliab=0.77, pred_reliab=0.70):\n",
    "    return pearsonr(truth, predictions)[0] / np.sqrt(key_reliab * pred_reliab)\n",
    "\n",
    "\n",
    "dis_r_score = make_scorer(dis_r, greater_is_better=True)\n",
    "\n",
    "\n",
    "def make_xy(data, label_name, include=None, exclude=IGNORE):\n",
    "    X, y = [], []\n",
    "    for i in data:\n",
    "        label = i[label_name]\n",
    "        if label == '':\n",
    "            continue\n",
    "        d = {}\n",
    "        for k, v in i.items():\n",
    "            if include and k not in include:\n",
    "                continue\n",
    "            elif exclude and k in exclude:\n",
    "                continue\n",
    "            else:\n",
    "                d[k] = v\n",
    "        X.append(d)\n",
    "        y.append(label)\n",
    "    return X, y\n",
    "\n",
    "\n",
    "def todense(X):\n",
    "    return X.todense()\n",
    "\n",
    "\n",
    "def to_range(score):\n",
    "    \"\"\" Returns a float in the range: 0 to 9 inclusive. \"\"\"\n",
    "    return max(0, min(score, 9))\n",
    "\n",
    "\n",
    "def predict(data, clf, fname):\n",
    "    fieldnames = ['Id', 'Pred']\n",
    "    with open(fname, 'w') as f:\n",
    "        w = csv.DictWriter(f, delimiter=',', fieldnames=fieldnames)\n",
    "        w.writerow({f: f for f in fieldnames})\n",
    "        for inst, pred in zip(test, clf.predict(data)):\n",
    "            w.writerow({'Id': inst['id'], 'Pred': to_range(pred)})\n",
    "\n",
    "\n",
    "test = load_jsonl('test.jsonl')"
   ]
  },
  {
   "cell_type": "code",
   "execution_count": 4,
   "metadata": {},
   "outputs": [],
   "source": [
    "for a in [23, 33, 42]:\n",
    "    out = f'a{a}_pdistress'\n",
    "    for model in ['baseline', 'SGDR-all']:\n",
    "        clf = joblib.load(f'{model}-{out}.pkl')\n",
    "        predict(test, clf, \n",
    "                f'{model}-{out}-test-no-round.csv')"
   ]
  },
  {
   "cell_type": "code",
   "execution_count": null,
   "metadata": {},
   "outputs": [],
   "source": []
  }
 ],
 "metadata": {
  "kernelspec": {
   "display_name": "Python 3",
   "language": "python",
   "name": "python3"
  },
  "language_info": {
   "codemirror_mode": {
    "name": "ipython",
    "version": 3
   },
   "file_extension": ".py",
   "mimetype": "text/x-python",
   "name": "python",
   "nbconvert_exporter": "python",
   "pygments_lexer": "ipython3",
   "version": "3.6.4"
  }
 },
 "nbformat": 4,
 "nbformat_minor": 2
}
